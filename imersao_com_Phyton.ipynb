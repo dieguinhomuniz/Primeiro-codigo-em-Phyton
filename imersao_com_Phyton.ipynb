{
  "nbformat": 4,
  "nbformat_minor": 0,
  "metadata": {
    "colab": {
      "provenance": [],
      "authorship_tag": "ABX9TyNjAGC4/K2dwsHCcc/d+cew",
      "include_colab_link": true
    },
    "kernelspec": {
      "name": "python3",
      "display_name": "Python 3"
    },
    "language_info": {
      "name": "python"
    }
  },
  "cells": [
    {
      "cell_type": "markdown",
      "metadata": {
        "id": "view-in-github",
        "colab_type": "text"
      },
      "source": [
        "<a href=\"https://colab.research.google.com/github/dieguinhomuniz/Primeiro-codigo-em-Phyton/blob/main/imersao_com_Phyton.ipynb\" target=\"_parent\"><img src=\"https://colab.research.google.com/assets/colab-badge.svg\" alt=\"Open In Colab\"/></a>"
      ]
    },
    {
      "cell_type": "code",
      "execution_count": 1,
      "metadata": {
        "colab": {
          "base_uri": "https://localhost:8080/",
          "height": 53
        },
        "id": "Pw3UDrapB6Cq",
        "outputId": "3d15d303-336f-4ad5-e50c-f21460152b27"
      },
      "outputs": [
        {
          "name": "stdout",
          "output_type": "stream",
          "text": [
            "DIgite o valor em dólar!10\n"
          ]
        },
        {
          "output_type": "execute_result",
          "data": {
            "text/plain": [
              "'10'"
            ],
            "application/vnd.google.colaboratory.intrinsic+json": {
              "type": "string"
            }
          },
          "metadata": {},
          "execution_count": 1
        }
      ],
      "source": [
        "valor_em_dolar_texto = input('DIgite o valor em dólar!')\n",
        "valor_em_dolar_texto\n",
        "\n"
      ]
    },
    {
      "cell_type": "code",
      "source": [
        "type(valor_em_dolar_texto)"
      ],
      "metadata": {
        "colab": {
          "base_uri": "https://localhost:8080/"
        },
        "id": "NZcjRcYVC1VC",
        "outputId": "e8c45218-bd29-464b-f5fa-05bd3346cba2"
      },
      "execution_count": 2,
      "outputs": [
        {
          "output_type": "execute_result",
          "data": {
            "text/plain": [
              "str"
            ]
          },
          "metadata": {},
          "execution_count": 2
        }
      ]
    },
    {
      "cell_type": "code",
      "source": [
        "valor_em_dolar_numerico = float (valor_em_dolar_texto)\n",
        "type(valor_em_dolar_numerico)"
      ],
      "metadata": {
        "colab": {
          "base_uri": "https://localhost:8080/"
        },
        "id": "eHLtYQawDFZX",
        "outputId": "c6e25986-2842-4dec-dc07-5c613af3fe6c"
      },
      "execution_count": 3,
      "outputs": [
        {
          "output_type": "execute_result",
          "data": {
            "text/plain": [
              "float"
            ]
          },
          "metadata": {},
          "execution_count": 3
        }
      ]
    },
    {
      "cell_type": "code",
      "source": [
        "valor_em_real = valor_em_dolar_numerico * 5.51\n",
        "valor_em_real"
      ],
      "metadata": {
        "colab": {
          "base_uri": "https://localhost:8080/"
        },
        "id": "_oxnizQMDd9Q",
        "outputId": "5d84e1a5-6596-4c32-dcd2-5a2f196e68ef"
      },
      "execution_count": 4,
      "outputs": [
        {
          "output_type": "execute_result",
          "data": {
            "text/plain": [
              "55.099999999999994"
            ]
          },
          "metadata": {},
          "execution_count": 4
        }
      ]
    },
    {
      "cell_type": "code",
      "source": [
        "valor_em_real_fixado = round(valor_em_real, 2)\n",
        "valor_em_real_fixado"
      ],
      "metadata": {
        "colab": {
          "base_uri": "https://localhost:8080/"
        },
        "id": "CY_T7tD0DlH6",
        "outputId": "b0685a45-1291-48f7-8e35-7fd356ba55dc"
      },
      "execution_count": 5,
      "outputs": [
        {
          "output_type": "execute_result",
          "data": {
            "text/plain": [
              "55.1"
            ]
          },
          "metadata": {},
          "execution_count": 5
        }
      ]
    },
    {
      "cell_type": "code",
      "source": [],
      "metadata": {
        "id": "7Hs986-mD9VY"
      },
      "execution_count": null,
      "outputs": []
    }
  ]
}